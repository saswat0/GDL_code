{
  "nbformat": 4,
  "nbformat_minor": 0,
  "metadata": {
    "colab": {
      "name": "03_01_autoencoder_train.ipynb",
      "provenance": [],
      "toc_visible": true
    },
    "kernelspec": {
      "name": "python3",
      "display_name": "Python 3"
    },
    "accelerator": "GPU",
    "widgets": {
      "application/vnd.jupyter.widget-state+json": {
        "4048e433ba2b4ee3a53b6e4b8a87e29c": {
          "model_module": "@jupyter-widgets/controls",
          "model_name": "HBoxModel",
          "state": {
            "_view_name": "HBoxView",
            "_dom_classes": [],
            "_model_name": "HBoxModel",
            "_view_module": "@jupyter-widgets/controls",
            "_model_module_version": "1.5.0",
            "_view_count": null,
            "_view_module_version": "1.5.0",
            "box_style": "",
            "layout": "IPY_MODEL_8ab89d51e3f2401c87d551d12b20f017",
            "_model_module": "@jupyter-widgets/controls",
            "children": [
              "IPY_MODEL_3c0a6eeb2d034961a55cebb6d7fcdfcb",
              "IPY_MODEL_5baea94df0a54303abbbe5ea0e5f21f0"
            ]
          }
        },
        "8ab89d51e3f2401c87d551d12b20f017": {
          "model_module": "@jupyter-widgets/base",
          "model_name": "LayoutModel",
          "state": {
            "_view_name": "LayoutView",
            "grid_template_rows": null,
            "right": null,
            "justify_content": null,
            "_view_module": "@jupyter-widgets/base",
            "overflow": null,
            "_model_module_version": "1.2.0",
            "_view_count": null,
            "flex_flow": null,
            "width": null,
            "min_width": null,
            "border": null,
            "align_items": null,
            "bottom": null,
            "_model_module": "@jupyter-widgets/base",
            "top": null,
            "grid_column": null,
            "overflow_y": null,
            "overflow_x": null,
            "grid_auto_flow": null,
            "grid_area": null,
            "grid_template_columns": null,
            "flex": null,
            "_model_name": "LayoutModel",
            "justify_items": null,
            "grid_row": null,
            "max_height": null,
            "align_content": null,
            "visibility": null,
            "align_self": null,
            "height": null,
            "min_height": null,
            "padding": null,
            "grid_auto_rows": null,
            "grid_gap": null,
            "max_width": null,
            "order": null,
            "_view_module_version": "1.2.0",
            "grid_template_areas": null,
            "object_position": null,
            "object_fit": null,
            "grid_auto_columns": null,
            "margin": null,
            "display": null,
            "left": null
          }
        },
        "3c0a6eeb2d034961a55cebb6d7fcdfcb": {
          "model_module": "@jupyter-widgets/controls",
          "model_name": "FloatProgressModel",
          "state": {
            "_view_name": "ProgressView",
            "style": "IPY_MODEL_2d3811dedb9d492091cefa6804fea52f",
            "_dom_classes": [],
            "description": "",
            "_model_name": "FloatProgressModel",
            "bar_style": "info",
            "max": 1,
            "_view_module": "@jupyter-widgets/controls",
            "_model_module_version": "1.5.0",
            "value": 1,
            "_view_count": null,
            "_view_module_version": "1.5.0",
            "orientation": "horizontal",
            "min": 0,
            "description_tooltip": null,
            "_model_module": "@jupyter-widgets/controls",
            "layout": "IPY_MODEL_5152f36887784e268eaa877a40e7a307"
          }
        },
        "5baea94df0a54303abbbe5ea0e5f21f0": {
          "model_module": "@jupyter-widgets/controls",
          "model_name": "HTMLModel",
          "state": {
            "_view_name": "HTMLView",
            "style": "IPY_MODEL_d8b7abba73554b07acd49e3557768b62",
            "_dom_classes": [],
            "description": "",
            "_model_name": "HTMLModel",
            "placeholder": "​",
            "_view_module": "@jupyter-widgets/controls",
            "_model_module_version": "1.5.0",
            "value": " 9920512/? [00:19&lt;00:00, 1072295.29it/s]",
            "_view_count": null,
            "_view_module_version": "1.5.0",
            "description_tooltip": null,
            "_model_module": "@jupyter-widgets/controls",
            "layout": "IPY_MODEL_79b3e0e33b454d759b8e934d7cbe07b9"
          }
        },
        "2d3811dedb9d492091cefa6804fea52f": {
          "model_module": "@jupyter-widgets/controls",
          "model_name": "ProgressStyleModel",
          "state": {
            "_view_name": "StyleView",
            "_model_name": "ProgressStyleModel",
            "description_width": "initial",
            "_view_module": "@jupyter-widgets/base",
            "_model_module_version": "1.5.0",
            "_view_count": null,
            "_view_module_version": "1.2.0",
            "bar_color": null,
            "_model_module": "@jupyter-widgets/controls"
          }
        },
        "5152f36887784e268eaa877a40e7a307": {
          "model_module": "@jupyter-widgets/base",
          "model_name": "LayoutModel",
          "state": {
            "_view_name": "LayoutView",
            "grid_template_rows": null,
            "right": null,
            "justify_content": null,
            "_view_module": "@jupyter-widgets/base",
            "overflow": null,
            "_model_module_version": "1.2.0",
            "_view_count": null,
            "flex_flow": null,
            "width": null,
            "min_width": null,
            "border": null,
            "align_items": null,
            "bottom": null,
            "_model_module": "@jupyter-widgets/base",
            "top": null,
            "grid_column": null,
            "overflow_y": null,
            "overflow_x": null,
            "grid_auto_flow": null,
            "grid_area": null,
            "grid_template_columns": null,
            "flex": null,
            "_model_name": "LayoutModel",
            "justify_items": null,
            "grid_row": null,
            "max_height": null,
            "align_content": null,
            "visibility": null,
            "align_self": null,
            "height": null,
            "min_height": null,
            "padding": null,
            "grid_auto_rows": null,
            "grid_gap": null,
            "max_width": null,
            "order": null,
            "_view_module_version": "1.2.0",
            "grid_template_areas": null,
            "object_position": null,
            "object_fit": null,
            "grid_auto_columns": null,
            "margin": null,
            "display": null,
            "left": null
          }
        },
        "d8b7abba73554b07acd49e3557768b62": {
          "model_module": "@jupyter-widgets/controls",
          "model_name": "DescriptionStyleModel",
          "state": {
            "_view_name": "StyleView",
            "_model_name": "DescriptionStyleModel",
            "description_width": "",
            "_view_module": "@jupyter-widgets/base",
            "_model_module_version": "1.5.0",
            "_view_count": null,
            "_view_module_version": "1.2.0",
            "_model_module": "@jupyter-widgets/controls"
          }
        },
        "79b3e0e33b454d759b8e934d7cbe07b9": {
          "model_module": "@jupyter-widgets/base",
          "model_name": "LayoutModel",
          "state": {
            "_view_name": "LayoutView",
            "grid_template_rows": null,
            "right": null,
            "justify_content": null,
            "_view_module": "@jupyter-widgets/base",
            "overflow": null,
            "_model_module_version": "1.2.0",
            "_view_count": null,
            "flex_flow": null,
            "width": null,
            "min_width": null,
            "border": null,
            "align_items": null,
            "bottom": null,
            "_model_module": "@jupyter-widgets/base",
            "top": null,
            "grid_column": null,
            "overflow_y": null,
            "overflow_x": null,
            "grid_auto_flow": null,
            "grid_area": null,
            "grid_template_columns": null,
            "flex": null,
            "_model_name": "LayoutModel",
            "justify_items": null,
            "grid_row": null,
            "max_height": null,
            "align_content": null,
            "visibility": null,
            "align_self": null,
            "height": null,
            "min_height": null,
            "padding": null,
            "grid_auto_rows": null,
            "grid_gap": null,
            "max_width": null,
            "order": null,
            "_view_module_version": "1.2.0",
            "grid_template_areas": null,
            "object_position": null,
            "object_fit": null,
            "grid_auto_columns": null,
            "margin": null,
            "display": null,
            "left": null
          }
        },
        "8be4578aa6974fa7b97bca02039c8d98": {
          "model_module": "@jupyter-widgets/controls",
          "model_name": "HBoxModel",
          "state": {
            "_view_name": "HBoxView",
            "_dom_classes": [],
            "_model_name": "HBoxModel",
            "_view_module": "@jupyter-widgets/controls",
            "_model_module_version": "1.5.0",
            "_view_count": null,
            "_view_module_version": "1.5.0",
            "box_style": "",
            "layout": "IPY_MODEL_26901479579840528dd13db81d58b3ef",
            "_model_module": "@jupyter-widgets/controls",
            "children": [
              "IPY_MODEL_554492f122de437a9b99adcb3a1c4ba5",
              "IPY_MODEL_27795e65aa6b49478f152f3b56f05628"
            ]
          }
        },
        "26901479579840528dd13db81d58b3ef": {
          "model_module": "@jupyter-widgets/base",
          "model_name": "LayoutModel",
          "state": {
            "_view_name": "LayoutView",
            "grid_template_rows": null,
            "right": null,
            "justify_content": null,
            "_view_module": "@jupyter-widgets/base",
            "overflow": null,
            "_model_module_version": "1.2.0",
            "_view_count": null,
            "flex_flow": null,
            "width": null,
            "min_width": null,
            "border": null,
            "align_items": null,
            "bottom": null,
            "_model_module": "@jupyter-widgets/base",
            "top": null,
            "grid_column": null,
            "overflow_y": null,
            "overflow_x": null,
            "grid_auto_flow": null,
            "grid_area": null,
            "grid_template_columns": null,
            "flex": null,
            "_model_name": "LayoutModel",
            "justify_items": null,
            "grid_row": null,
            "max_height": null,
            "align_content": null,
            "visibility": null,
            "align_self": null,
            "height": null,
            "min_height": null,
            "padding": null,
            "grid_auto_rows": null,
            "grid_gap": null,
            "max_width": null,
            "order": null,
            "_view_module_version": "1.2.0",
            "grid_template_areas": null,
            "object_position": null,
            "object_fit": null,
            "grid_auto_columns": null,
            "margin": null,
            "display": null,
            "left": null
          }
        },
        "554492f122de437a9b99adcb3a1c4ba5": {
          "model_module": "@jupyter-widgets/controls",
          "model_name": "FloatProgressModel",
          "state": {
            "_view_name": "ProgressView",
            "style": "IPY_MODEL_5912f44f2c064520a90cd14f48084cb4",
            "_dom_classes": [],
            "description": "",
            "_model_name": "FloatProgressModel",
            "bar_style": "success",
            "max": 1,
            "_view_module": "@jupyter-widgets/controls",
            "_model_module_version": "1.5.0",
            "value": 1,
            "_view_count": null,
            "_view_module_version": "1.5.0",
            "orientation": "horizontal",
            "min": 0,
            "description_tooltip": null,
            "_model_module": "@jupyter-widgets/controls",
            "layout": "IPY_MODEL_904e10765573419998e7c5f9854c957d"
          }
        },
        "27795e65aa6b49478f152f3b56f05628": {
          "model_module": "@jupyter-widgets/controls",
          "model_name": "HTMLModel",
          "state": {
            "_view_name": "HTMLView",
            "style": "IPY_MODEL_4b9a203143a548b5b36fd6b1e7310c0b",
            "_dom_classes": [],
            "description": "",
            "_model_name": "HTMLModel",
            "placeholder": "​",
            "_view_module": "@jupyter-widgets/controls",
            "_model_module_version": "1.5.0",
            "value": " 32768/? [00:00&lt;00:00, 117841.55it/s]",
            "_view_count": null,
            "_view_module_version": "1.5.0",
            "description_tooltip": null,
            "_model_module": "@jupyter-widgets/controls",
            "layout": "IPY_MODEL_9a61e89dc3744e2cb1db1c0a430cbbe4"
          }
        },
        "5912f44f2c064520a90cd14f48084cb4": {
          "model_module": "@jupyter-widgets/controls",
          "model_name": "ProgressStyleModel",
          "state": {
            "_view_name": "StyleView",
            "_model_name": "ProgressStyleModel",
            "description_width": "initial",
            "_view_module": "@jupyter-widgets/base",
            "_model_module_version": "1.5.0",
            "_view_count": null,
            "_view_module_version": "1.2.0",
            "bar_color": null,
            "_model_module": "@jupyter-widgets/controls"
          }
        },
        "904e10765573419998e7c5f9854c957d": {
          "model_module": "@jupyter-widgets/base",
          "model_name": "LayoutModel",
          "state": {
            "_view_name": "LayoutView",
            "grid_template_rows": null,
            "right": null,
            "justify_content": null,
            "_view_module": "@jupyter-widgets/base",
            "overflow": null,
            "_model_module_version": "1.2.0",
            "_view_count": null,
            "flex_flow": null,
            "width": null,
            "min_width": null,
            "border": null,
            "align_items": null,
            "bottom": null,
            "_model_module": "@jupyter-widgets/base",
            "top": null,
            "grid_column": null,
            "overflow_y": null,
            "overflow_x": null,
            "grid_auto_flow": null,
            "grid_area": null,
            "grid_template_columns": null,
            "flex": null,
            "_model_name": "LayoutModel",
            "justify_items": null,
            "grid_row": null,
            "max_height": null,
            "align_content": null,
            "visibility": null,
            "align_self": null,
            "height": null,
            "min_height": null,
            "padding": null,
            "grid_auto_rows": null,
            "grid_gap": null,
            "max_width": null,
            "order": null,
            "_view_module_version": "1.2.0",
            "grid_template_areas": null,
            "object_position": null,
            "object_fit": null,
            "grid_auto_columns": null,
            "margin": null,
            "display": null,
            "left": null
          }
        },
        "4b9a203143a548b5b36fd6b1e7310c0b": {
          "model_module": "@jupyter-widgets/controls",
          "model_name": "DescriptionStyleModel",
          "state": {
            "_view_name": "StyleView",
            "_model_name": "DescriptionStyleModel",
            "description_width": "",
            "_view_module": "@jupyter-widgets/base",
            "_model_module_version": "1.5.0",
            "_view_count": null,
            "_view_module_version": "1.2.0",
            "_model_module": "@jupyter-widgets/controls"
          }
        },
        "9a61e89dc3744e2cb1db1c0a430cbbe4": {
          "model_module": "@jupyter-widgets/base",
          "model_name": "LayoutModel",
          "state": {
            "_view_name": "LayoutView",
            "grid_template_rows": null,
            "right": null,
            "justify_content": null,
            "_view_module": "@jupyter-widgets/base",
            "overflow": null,
            "_model_module_version": "1.2.0",
            "_view_count": null,
            "flex_flow": null,
            "width": null,
            "min_width": null,
            "border": null,
            "align_items": null,
            "bottom": null,
            "_model_module": "@jupyter-widgets/base",
            "top": null,
            "grid_column": null,
            "overflow_y": null,
            "overflow_x": null,
            "grid_auto_flow": null,
            "grid_area": null,
            "grid_template_columns": null,
            "flex": null,
            "_model_name": "LayoutModel",
            "justify_items": null,
            "grid_row": null,
            "max_height": null,
            "align_content": null,
            "visibility": null,
            "align_self": null,
            "height": null,
            "min_height": null,
            "padding": null,
            "grid_auto_rows": null,
            "grid_gap": null,
            "max_width": null,
            "order": null,
            "_view_module_version": "1.2.0",
            "grid_template_areas": null,
            "object_position": null,
            "object_fit": null,
            "grid_auto_columns": null,
            "margin": null,
            "display": null,
            "left": null
          }
        },
        "ae97e27d75fb47eb8c5f6459e1de9f56": {
          "model_module": "@jupyter-widgets/controls",
          "model_name": "HBoxModel",
          "state": {
            "_view_name": "HBoxView",
            "_dom_classes": [],
            "_model_name": "HBoxModel",
            "_view_module": "@jupyter-widgets/controls",
            "_model_module_version": "1.5.0",
            "_view_count": null,
            "_view_module_version": "1.5.0",
            "box_style": "",
            "layout": "IPY_MODEL_0ca2a533fc754c088ceacdc9a299f013",
            "_model_module": "@jupyter-widgets/controls",
            "children": [
              "IPY_MODEL_80e76a4db1d145508180a67c276e0d1f",
              "IPY_MODEL_fb634b6124e84ab2adc6c7e10d87a775"
            ]
          }
        },
        "0ca2a533fc754c088ceacdc9a299f013": {
          "model_module": "@jupyter-widgets/base",
          "model_name": "LayoutModel",
          "state": {
            "_view_name": "LayoutView",
            "grid_template_rows": null,
            "right": null,
            "justify_content": null,
            "_view_module": "@jupyter-widgets/base",
            "overflow": null,
            "_model_module_version": "1.2.0",
            "_view_count": null,
            "flex_flow": null,
            "width": null,
            "min_width": null,
            "border": null,
            "align_items": null,
            "bottom": null,
            "_model_module": "@jupyter-widgets/base",
            "top": null,
            "grid_column": null,
            "overflow_y": null,
            "overflow_x": null,
            "grid_auto_flow": null,
            "grid_area": null,
            "grid_template_columns": null,
            "flex": null,
            "_model_name": "LayoutModel",
            "justify_items": null,
            "grid_row": null,
            "max_height": null,
            "align_content": null,
            "visibility": null,
            "align_self": null,
            "height": null,
            "min_height": null,
            "padding": null,
            "grid_auto_rows": null,
            "grid_gap": null,
            "max_width": null,
            "order": null,
            "_view_module_version": "1.2.0",
            "grid_template_areas": null,
            "object_position": null,
            "object_fit": null,
            "grid_auto_columns": null,
            "margin": null,
            "display": null,
            "left": null
          }
        },
        "80e76a4db1d145508180a67c276e0d1f": {
          "model_module": "@jupyter-widgets/controls",
          "model_name": "FloatProgressModel",
          "state": {
            "_view_name": "ProgressView",
            "style": "IPY_MODEL_4b6b28905ab149189e86a08e671e31bf",
            "_dom_classes": [],
            "description": "",
            "_model_name": "FloatProgressModel",
            "bar_style": "info",
            "max": 1,
            "_view_module": "@jupyter-widgets/controls",
            "_model_module_version": "1.5.0",
            "value": 1,
            "_view_count": null,
            "_view_module_version": "1.5.0",
            "orientation": "horizontal",
            "min": 0,
            "description_tooltip": null,
            "_model_module": "@jupyter-widgets/controls",
            "layout": "IPY_MODEL_e77ac27c845e48e2bdc7b9a1e092475e"
          }
        },
        "fb634b6124e84ab2adc6c7e10d87a775": {
          "model_module": "@jupyter-widgets/controls",
          "model_name": "HTMLModel",
          "state": {
            "_view_name": "HTMLView",
            "style": "IPY_MODEL_197cb9044cbc41e6870aa43a455b508d",
            "_dom_classes": [],
            "description": "",
            "_model_name": "HTMLModel",
            "placeholder": "​",
            "_view_module": "@jupyter-widgets/controls",
            "_model_module_version": "1.5.0",
            "value": " 1654784/? [00:18&lt;00:00, 634657.46it/s]",
            "_view_count": null,
            "_view_module_version": "1.5.0",
            "description_tooltip": null,
            "_model_module": "@jupyter-widgets/controls",
            "layout": "IPY_MODEL_7158ebabb36c4b148acaf7bdeeca900f"
          }
        },
        "4b6b28905ab149189e86a08e671e31bf": {
          "model_module": "@jupyter-widgets/controls",
          "model_name": "ProgressStyleModel",
          "state": {
            "_view_name": "StyleView",
            "_model_name": "ProgressStyleModel",
            "description_width": "initial",
            "_view_module": "@jupyter-widgets/base",
            "_model_module_version": "1.5.0",
            "_view_count": null,
            "_view_module_version": "1.2.0",
            "bar_color": null,
            "_model_module": "@jupyter-widgets/controls"
          }
        },
        "e77ac27c845e48e2bdc7b9a1e092475e": {
          "model_module": "@jupyter-widgets/base",
          "model_name": "LayoutModel",
          "state": {
            "_view_name": "LayoutView",
            "grid_template_rows": null,
            "right": null,
            "justify_content": null,
            "_view_module": "@jupyter-widgets/base",
            "overflow": null,
            "_model_module_version": "1.2.0",
            "_view_count": null,
            "flex_flow": null,
            "width": null,
            "min_width": null,
            "border": null,
            "align_items": null,
            "bottom": null,
            "_model_module": "@jupyter-widgets/base",
            "top": null,
            "grid_column": null,
            "overflow_y": null,
            "overflow_x": null,
            "grid_auto_flow": null,
            "grid_area": null,
            "grid_template_columns": null,
            "flex": null,
            "_model_name": "LayoutModel",
            "justify_items": null,
            "grid_row": null,
            "max_height": null,
            "align_content": null,
            "visibility": null,
            "align_self": null,
            "height": null,
            "min_height": null,
            "padding": null,
            "grid_auto_rows": null,
            "grid_gap": null,
            "max_width": null,
            "order": null,
            "_view_module_version": "1.2.0",
            "grid_template_areas": null,
            "object_position": null,
            "object_fit": null,
            "grid_auto_columns": null,
            "margin": null,
            "display": null,
            "left": null
          }
        },
        "197cb9044cbc41e6870aa43a455b508d": {
          "model_module": "@jupyter-widgets/controls",
          "model_name": "DescriptionStyleModel",
          "state": {
            "_view_name": "StyleView",
            "_model_name": "DescriptionStyleModel",
            "description_width": "",
            "_view_module": "@jupyter-widgets/base",
            "_model_module_version": "1.5.0",
            "_view_count": null,
            "_view_module_version": "1.2.0",
            "_model_module": "@jupyter-widgets/controls"
          }
        },
        "7158ebabb36c4b148acaf7bdeeca900f": {
          "model_module": "@jupyter-widgets/base",
          "model_name": "LayoutModel",
          "state": {
            "_view_name": "LayoutView",
            "grid_template_rows": null,
            "right": null,
            "justify_content": null,
            "_view_module": "@jupyter-widgets/base",
            "overflow": null,
            "_model_module_version": "1.2.0",
            "_view_count": null,
            "flex_flow": null,
            "width": null,
            "min_width": null,
            "border": null,
            "align_items": null,
            "bottom": null,
            "_model_module": "@jupyter-widgets/base",
            "top": null,
            "grid_column": null,
            "overflow_y": null,
            "overflow_x": null,
            "grid_auto_flow": null,
            "grid_area": null,
            "grid_template_columns": null,
            "flex": null,
            "_model_name": "LayoutModel",
            "justify_items": null,
            "grid_row": null,
            "max_height": null,
            "align_content": null,
            "visibility": null,
            "align_self": null,
            "height": null,
            "min_height": null,
            "padding": null,
            "grid_auto_rows": null,
            "grid_gap": null,
            "max_width": null,
            "order": null,
            "_view_module_version": "1.2.0",
            "grid_template_areas": null,
            "object_position": null,
            "object_fit": null,
            "grid_auto_columns": null,
            "margin": null,
            "display": null,
            "left": null
          }
        },
        "a72c3ac34ec34463918a165f75e8b8fd": {
          "model_module": "@jupyter-widgets/controls",
          "model_name": "HBoxModel",
          "state": {
            "_view_name": "HBoxView",
            "_dom_classes": [],
            "_model_name": "HBoxModel",
            "_view_module": "@jupyter-widgets/controls",
            "_model_module_version": "1.5.0",
            "_view_count": null,
            "_view_module_version": "1.5.0",
            "box_style": "",
            "layout": "IPY_MODEL_d3ca524a7b7e4cd7bdeaadd14eb21468",
            "_model_module": "@jupyter-widgets/controls",
            "children": [
              "IPY_MODEL_adc01a697b7148f7a1541ec6909a51cb",
              "IPY_MODEL_9eff7b4d2fa442a4a7a1d2df1472aac0"
            ]
          }
        },
        "d3ca524a7b7e4cd7bdeaadd14eb21468": {
          "model_module": "@jupyter-widgets/base",
          "model_name": "LayoutModel",
          "state": {
            "_view_name": "LayoutView",
            "grid_template_rows": null,
            "right": null,
            "justify_content": null,
            "_view_module": "@jupyter-widgets/base",
            "overflow": null,
            "_model_module_version": "1.2.0",
            "_view_count": null,
            "flex_flow": null,
            "width": null,
            "min_width": null,
            "border": null,
            "align_items": null,
            "bottom": null,
            "_model_module": "@jupyter-widgets/base",
            "top": null,
            "grid_column": null,
            "overflow_y": null,
            "overflow_x": null,
            "grid_auto_flow": null,
            "grid_area": null,
            "grid_template_columns": null,
            "flex": null,
            "_model_name": "LayoutModel",
            "justify_items": null,
            "grid_row": null,
            "max_height": null,
            "align_content": null,
            "visibility": null,
            "align_self": null,
            "height": null,
            "min_height": null,
            "padding": null,
            "grid_auto_rows": null,
            "grid_gap": null,
            "max_width": null,
            "order": null,
            "_view_module_version": "1.2.0",
            "grid_template_areas": null,
            "object_position": null,
            "object_fit": null,
            "grid_auto_columns": null,
            "margin": null,
            "display": null,
            "left": null
          }
        },
        "adc01a697b7148f7a1541ec6909a51cb": {
          "model_module": "@jupyter-widgets/controls",
          "model_name": "FloatProgressModel",
          "state": {
            "_view_name": "ProgressView",
            "style": "IPY_MODEL_782b7adaecf54647bc3ac965077184c7",
            "_dom_classes": [],
            "description": "",
            "_model_name": "FloatProgressModel",
            "bar_style": "success",
            "max": 1,
            "_view_module": "@jupyter-widgets/controls",
            "_model_module_version": "1.5.0",
            "value": 1,
            "_view_count": null,
            "_view_module_version": "1.5.0",
            "orientation": "horizontal",
            "min": 0,
            "description_tooltip": null,
            "_model_module": "@jupyter-widgets/controls",
            "layout": "IPY_MODEL_0202ca87ce1f412091a8b41c6426f45e"
          }
        },
        "9eff7b4d2fa442a4a7a1d2df1472aac0": {
          "model_module": "@jupyter-widgets/controls",
          "model_name": "HTMLModel",
          "state": {
            "_view_name": "HTMLView",
            "style": "IPY_MODEL_4b0123636788426f8506a6fcfebd5bb9",
            "_dom_classes": [],
            "description": "",
            "_model_name": "HTMLModel",
            "placeholder": "​",
            "_view_module": "@jupyter-widgets/controls",
            "_model_module_version": "1.5.0",
            "value": " 8192/? [00:00&lt;00:00, 20758.10it/s]",
            "_view_count": null,
            "_view_module_version": "1.5.0",
            "description_tooltip": null,
            "_model_module": "@jupyter-widgets/controls",
            "layout": "IPY_MODEL_e812493d1419441b943715c0e111fb80"
          }
        },
        "782b7adaecf54647bc3ac965077184c7": {
          "model_module": "@jupyter-widgets/controls",
          "model_name": "ProgressStyleModel",
          "state": {
            "_view_name": "StyleView",
            "_model_name": "ProgressStyleModel",
            "description_width": "initial",
            "_view_module": "@jupyter-widgets/base",
            "_model_module_version": "1.5.0",
            "_view_count": null,
            "_view_module_version": "1.2.0",
            "bar_color": null,
            "_model_module": "@jupyter-widgets/controls"
          }
        },
        "0202ca87ce1f412091a8b41c6426f45e": {
          "model_module": "@jupyter-widgets/base",
          "model_name": "LayoutModel",
          "state": {
            "_view_name": "LayoutView",
            "grid_template_rows": null,
            "right": null,
            "justify_content": null,
            "_view_module": "@jupyter-widgets/base",
            "overflow": null,
            "_model_module_version": "1.2.0",
            "_view_count": null,
            "flex_flow": null,
            "width": null,
            "min_width": null,
            "border": null,
            "align_items": null,
            "bottom": null,
            "_model_module": "@jupyter-widgets/base",
            "top": null,
            "grid_column": null,
            "overflow_y": null,
            "overflow_x": null,
            "grid_auto_flow": null,
            "grid_area": null,
            "grid_template_columns": null,
            "flex": null,
            "_model_name": "LayoutModel",
            "justify_items": null,
            "grid_row": null,
            "max_height": null,
            "align_content": null,
            "visibility": null,
            "align_self": null,
            "height": null,
            "min_height": null,
            "padding": null,
            "grid_auto_rows": null,
            "grid_gap": null,
            "max_width": null,
            "order": null,
            "_view_module_version": "1.2.0",
            "grid_template_areas": null,
            "object_position": null,
            "object_fit": null,
            "grid_auto_columns": null,
            "margin": null,
            "display": null,
            "left": null
          }
        },
        "4b0123636788426f8506a6fcfebd5bb9": {
          "model_module": "@jupyter-widgets/controls",
          "model_name": "DescriptionStyleModel",
          "state": {
            "_view_name": "StyleView",
            "_model_name": "DescriptionStyleModel",
            "description_width": "",
            "_view_module": "@jupyter-widgets/base",
            "_model_module_version": "1.5.0",
            "_view_count": null,
            "_view_module_version": "1.2.0",
            "_model_module": "@jupyter-widgets/controls"
          }
        },
        "e812493d1419441b943715c0e111fb80": {
          "model_module": "@jupyter-widgets/base",
          "model_name": "LayoutModel",
          "state": {
            "_view_name": "LayoutView",
            "grid_template_rows": null,
            "right": null,
            "justify_content": null,
            "_view_module": "@jupyter-widgets/base",
            "overflow": null,
            "_model_module_version": "1.2.0",
            "_view_count": null,
            "flex_flow": null,
            "width": null,
            "min_width": null,
            "border": null,
            "align_items": null,
            "bottom": null,
            "_model_module": "@jupyter-widgets/base",
            "top": null,
            "grid_column": null,
            "overflow_y": null,
            "overflow_x": null,
            "grid_auto_flow": null,
            "grid_area": null,
            "grid_template_columns": null,
            "flex": null,
            "_model_name": "LayoutModel",
            "justify_items": null,
            "grid_row": null,
            "max_height": null,
            "align_content": null,
            "visibility": null,
            "align_self": null,
            "height": null,
            "min_height": null,
            "padding": null,
            "grid_auto_rows": null,
            "grid_gap": null,
            "max_width": null,
            "order": null,
            "_view_module_version": "1.2.0",
            "grid_template_areas": null,
            "object_position": null,
            "object_fit": null,
            "grid_auto_columns": null,
            "margin": null,
            "display": null,
            "left": null
          }
        }
      }
    }
  },
  "cells": [
    {
      "cell_type": "markdown",
      "metadata": {
        "id": "GBtzZZEkoU0b"
      },
      "source": [
        "# imports"
      ]
    },
    {
      "cell_type": "code",
      "metadata": {
        "id": "qshIsABJZE9m"
      },
      "source": [
        "import torch\n",
        "import numpy as np\n",
        "import torch.nn as nn\n",
        "\n",
        "import torch.nn.functional as F\n",
        "from torchvision import datasets, transforms\n",
        "import matplotlib.pyplot as plt\n",
        "from torchsummary import summary\n",
        "\n",
        "from models.AE import AutoEncoder"
      ],
      "execution_count": 1,
      "outputs": []
    },
    {
      "cell_type": "markdown",
      "metadata": {
        "id": "keHUIRFmlJpn"
      },
      "source": [
        "# Load the data"
      ]
    },
    {
      "cell_type": "code",
      "metadata": {
        "id": "4iftJiP9ZKAN",
        "outputId": "5a224cd0-378e-410d-b573-ee084b2e7efa",
        "colab": {
          "base_uri": "https://localhost:8080/",
          "height": 386,
          "referenced_widgets": [
            "4048e433ba2b4ee3a53b6e4b8a87e29c",
            "8ab89d51e3f2401c87d551d12b20f017",
            "3c0a6eeb2d034961a55cebb6d7fcdfcb",
            "5baea94df0a54303abbbe5ea0e5f21f0",
            "2d3811dedb9d492091cefa6804fea52f",
            "5152f36887784e268eaa877a40e7a307",
            "d8b7abba73554b07acd49e3557768b62",
            "79b3e0e33b454d759b8e934d7cbe07b9",
            "8be4578aa6974fa7b97bca02039c8d98",
            "26901479579840528dd13db81d58b3ef",
            "554492f122de437a9b99adcb3a1c4ba5",
            "27795e65aa6b49478f152f3b56f05628",
            "5912f44f2c064520a90cd14f48084cb4",
            "904e10765573419998e7c5f9854c957d",
            "4b9a203143a548b5b36fd6b1e7310c0b",
            "9a61e89dc3744e2cb1db1c0a430cbbe4",
            "ae97e27d75fb47eb8c5f6459e1de9f56",
            "0ca2a533fc754c088ceacdc9a299f013",
            "80e76a4db1d145508180a67c276e0d1f",
            "fb634b6124e84ab2adc6c7e10d87a775",
            "4b6b28905ab149189e86a08e671e31bf",
            "e77ac27c845e48e2bdc7b9a1e092475e",
            "197cb9044cbc41e6870aa43a455b508d",
            "7158ebabb36c4b148acaf7bdeeca900f",
            "a72c3ac34ec34463918a165f75e8b8fd",
            "d3ca524a7b7e4cd7bdeaadd14eb21468",
            "adc01a697b7148f7a1541ec6909a51cb",
            "9eff7b4d2fa442a4a7a1d2df1472aac0",
            "782b7adaecf54647bc3ac965077184c7",
            "0202ca87ce1f412091a8b41c6426f45e",
            "4b0123636788426f8506a6fcfebd5bb9",
            "e812493d1419441b943715c0e111fb80"
          ]
        }
      },
      "source": [
        "batch_size = 32\n",
        "\n",
        "trainset = datasets.MNIST(root='./data', train=True, download=True, transform=transforms.ToTensor())\n",
        "trainloader = torch.utils.data.DataLoader(trainset, batch_size=batch_size, shuffle=True, drop_last=True)"
      ],
      "execution_count": 2,
      "outputs": [
        {
          "output_type": "stream",
          "text": [
            "Downloading http://yann.lecun.com/exdb/mnist/train-images-idx3-ubyte.gz to ./data/MNIST/raw/train-images-idx3-ubyte.gz\n"
          ],
          "name": "stdout"
        },
        {
          "output_type": "display_data",
          "data": {
            "application/vnd.jupyter.widget-view+json": {
              "model_id": "4048e433ba2b4ee3a53b6e4b8a87e29c",
              "version_minor": 0,
              "version_major": 2
            },
            "text/plain": [
              "HBox(children=(FloatProgress(value=1.0, bar_style='info', max=1.0), HTML(value='')))"
            ]
          },
          "metadata": {
            "tags": []
          }
        },
        {
          "output_type": "stream",
          "text": [
            "Extracting ./data/MNIST/raw/train-images-idx3-ubyte.gz to ./data/MNIST/raw\n",
            "Downloading http://yann.lecun.com/exdb/mnist/train-labels-idx1-ubyte.gz to ./data/MNIST/raw/train-labels-idx1-ubyte.gz\n"
          ],
          "name": "stdout"
        },
        {
          "output_type": "display_data",
          "data": {
            "application/vnd.jupyter.widget-view+json": {
              "model_id": "8be4578aa6974fa7b97bca02039c8d98",
              "version_minor": 0,
              "version_major": 2
            },
            "text/plain": [
              "HBox(children=(FloatProgress(value=1.0, bar_style='info', max=1.0), HTML(value='')))"
            ]
          },
          "metadata": {
            "tags": []
          }
        },
        {
          "output_type": "stream",
          "text": [
            "Extracting ./data/MNIST/raw/train-labels-idx1-ubyte.gz to ./data/MNIST/raw\n",
            "Downloading http://yann.lecun.com/exdb/mnist/t10k-images-idx3-ubyte.gz to ./data/MNIST/raw/t10k-images-idx3-ubyte.gz\n",
            "\n"
          ],
          "name": "stdout"
        },
        {
          "output_type": "display_data",
          "data": {
            "application/vnd.jupyter.widget-view+json": {
              "model_id": "ae97e27d75fb47eb8c5f6459e1de9f56",
              "version_minor": 0,
              "version_major": 2
            },
            "text/plain": [
              "HBox(children=(FloatProgress(value=1.0, bar_style='info', max=1.0), HTML(value='')))"
            ]
          },
          "metadata": {
            "tags": []
          }
        },
        {
          "output_type": "stream",
          "text": [
            "Extracting ./data/MNIST/raw/t10k-images-idx3-ubyte.gz to ./data/MNIST/raw\n",
            "Downloading http://yann.lecun.com/exdb/mnist/t10k-labels-idx1-ubyte.gz to ./data/MNIST/raw/t10k-labels-idx1-ubyte.gz\n"
          ],
          "name": "stdout"
        },
        {
          "output_type": "display_data",
          "data": {
            "application/vnd.jupyter.widget-view+json": {
              "model_id": "a72c3ac34ec34463918a165f75e8b8fd",
              "version_minor": 0,
              "version_major": 2
            },
            "text/plain": [
              "HBox(children=(FloatProgress(value=1.0, bar_style='info', max=1.0), HTML(value='')))"
            ]
          },
          "metadata": {
            "tags": []
          }
        },
        {
          "output_type": "stream",
          "text": [
            "Extracting ./data/MNIST/raw/t10k-labels-idx1-ubyte.gz to ./data/MNIST/raw\n",
            "Processing...\n",
            "Done!\n"
          ],
          "name": "stdout"
        },
        {
          "output_type": "stream",
          "text": [
            "/usr/local/lib/python3.6/dist-packages/torchvision/datasets/mnist.py:469: UserWarning: The given NumPy array is not writeable, and PyTorch does not support non-writeable tensors. This means you can write to the underlying (supposedly non-writeable) NumPy array using the tensor. You may want to copy the array to protect its data or make it writeable before converting it to a tensor. This type of warning will be suppressed for the rest of this program. (Triggered internally at  /pytorch/torch/csrc/utils/tensor_numpy.cpp:141.)\n",
            "  return torch.from_numpy(parsed.astype(m[2], copy=False)).view(*s)\n"
          ],
          "name": "stderr"
        }
      ]
    },
    {
      "cell_type": "markdown",
      "metadata": {
        "id": "xaARMY_elT7z"
      },
      "source": [
        "# Define the structure of the neural network"
      ]
    },
    {
      "cell_type": "code",
      "metadata": {
        "id": "xXrmZCHcZP5r"
      },
      "source": [
        "net = Autoencoder(trainset[0][0][None], input_channels=1, enc_output_channels=[32, 64, 64, 64],\n",
        "                    enc_kernel_size=[3, 3, 3, 3], enc_padding=[1, 1, 0, 1], enc_strides=[1, 2, 2, 1],\n",
        "                    dec_output_channels=[64, 64, 32, 1], dec_kernel_size=[3, 3, 3, 3], dec_strides=[1, 2, 2, 1],\n",
        "                    dec_padding=[1, 0, 1, 1], dec_op_padding=[0, 1, 1, 0], z_dim=2).to('cuda')"
      ],
      "execution_count": 5,
      "outputs": []
    },
    {
      "cell_type": "code",
      "metadata": {
        "id": "rn2iVfnZZULj",
        "outputId": "c0562ead-d0e9-4bea-ba2a-b9d5ab54d601",
        "colab": {
          "base_uri": "https://localhost:8080/",
          "height": 816
        }
      },
      "source": [
        "opt = torch.optim.Adam(net.parameters(), lr=0.0005, betas=(.9, .99), weight_decay=1e-2)\n",
        "loss_fn = F.mse_loss\n",
        "net = net.train()\n",
        "\n",
        "summary(net, (1, 28, 28))"
      ],
      "execution_count": 6,
      "outputs": [
        {
          "output_type": "stream",
          "text": [
            "----------------------------------------------------------------\n",
            "        Layer (type)               Output Shape         Param #\n",
            "================================================================\n",
            "            Conv2d-1           [-1, 32, 28, 28]             320\n",
            "         LeakyReLU-2           [-1, 32, 28, 28]               0\n",
            "       BatchNorm2d-3           [-1, 32, 28, 28]              64\n",
            "           Dropout-4           [-1, 32, 28, 28]               0\n",
            "            Conv2d-5           [-1, 64, 14, 14]          18,496\n",
            "         LeakyReLU-6           [-1, 64, 14, 14]               0\n",
            "       BatchNorm2d-7           [-1, 64, 14, 14]             128\n",
            "           Dropout-8           [-1, 64, 14, 14]               0\n",
            "            Conv2d-9             [-1, 64, 6, 6]          36,928\n",
            "        LeakyReLU-10             [-1, 64, 6, 6]               0\n",
            "      BatchNorm2d-11             [-1, 64, 6, 6]             128\n",
            "          Dropout-12             [-1, 64, 6, 6]               0\n",
            "           Conv2d-13             [-1, 64, 6, 6]          36,928\n",
            "        LeakyReLU-14             [-1, 64, 6, 6]               0\n",
            "      BatchNorm2d-15             [-1, 64, 6, 6]             128\n",
            "          Dropout-16             [-1, 64, 6, 6]               0\n",
            "          Flatten-17                 [-1, 2304]               0\n",
            "           Linear-18                    [-1, 2]           4,610\n",
            "           Linear-19                 [-1, 2304]           6,912\n",
            "             View-20             [-1, 64, 6, 6]               0\n",
            "  ConvTranspose2d-21             [-1, 64, 6, 6]          36,928\n",
            "        LeakyReLU-22             [-1, 64, 6, 6]               0\n",
            "      BatchNorm2d-23             [-1, 64, 6, 6]             128\n",
            "          Dropout-24             [-1, 64, 6, 6]               0\n",
            "  ConvTranspose2d-25           [-1, 64, 14, 14]          36,928\n",
            "        LeakyReLU-26           [-1, 64, 14, 14]               0\n",
            "      BatchNorm2d-27           [-1, 64, 14, 14]             128\n",
            "          Dropout-28           [-1, 64, 14, 14]               0\n",
            "  ConvTranspose2d-29           [-1, 32, 28, 28]          18,464\n",
            "        LeakyReLU-30           [-1, 32, 28, 28]               0\n",
            "      BatchNorm2d-31           [-1, 32, 28, 28]              64\n",
            "          Dropout-32           [-1, 32, 28, 28]               0\n",
            "  ConvTranspose2d-33            [-1, 1, 28, 28]             289\n",
            "          Sigmoid-34            [-1, 1, 28, 28]               0\n",
            "================================================================\n",
            "Total params: 197,571\n",
            "Trainable params: 197,571\n",
            "Non-trainable params: 0\n",
            "----------------------------------------------------------------\n",
            "Input size (MB): 0.00\n",
            "Forward/backward pass size (MB): 2.57\n",
            "Params size (MB): 0.75\n",
            "Estimated Total Size (MB): 3.33\n",
            "----------------------------------------------------------------\n"
          ],
          "name": "stdout"
        }
      ]
    },
    {
      "cell_type": "markdown",
      "metadata": {
        "id": "6_VwiK8KldJc"
      },
      "source": [
        "# Train the autoencoder"
      ]
    },
    {
      "cell_type": "code",
      "metadata": {
        "id": "wSudY_z8cn-T",
        "outputId": "6e1515c9-9127-40d4-f9d4-f54d5ebf7bc6",
        "colab": {
          "base_uri": "https://localhost:8080/",
          "height": 1000
        }
      },
      "source": [
        "loss_arr = []\n",
        "loss_epoch_arr = []\n",
        "max_epochs = 20\n",
        "\n",
        "for epoch in range(max_epochs):\n",
        "\n",
        "    for i, data in enumerate(trainloader, 0):\n",
        "\n",
        "        inputs, _ = data\n",
        "        inputs = inputs.to(\"cuda\")\n",
        "\n",
        "        opt.zero_grad()\n",
        "\n",
        "        outputs = net(inputs)\n",
        "        loss = loss_fn(outputs, inputs)\n",
        "        loss.backward()\n",
        "        \n",
        "        opt.step()\n",
        "        \n",
        "        loss_arr.append(loss.item())\n",
        "        \n",
        "        if i % 500 == 0:\n",
        "          print('\\t\\t Epoch: %d/%d, Intermediate Loss: %0.4f' % (epoch, max_epochs, loss.item()))\n",
        "\n",
        "    loss_epoch_arr.append(loss.item())\n",
        "        \n",
        "    print('Epoch: %d/%d, Loss: %0.4f' % (epoch, max_epochs, loss.item()))"
      ],
      "execution_count": 7,
      "outputs": [
        {
          "output_type": "stream",
          "text": [
            "\t\t Epoch: 0/20, Intermediate Loss: 0.3570\n",
            "\t\t Epoch: 0/20, Intermediate Loss: 0.0595\n",
            "\t\t Epoch: 0/20, Intermediate Loss: 0.0541\n",
            "\t\t Epoch: 0/20, Intermediate Loss: 0.0571\n",
            "Epoch: 0/20, Loss: 0.0520\n",
            "\t\t Epoch: 1/20, Intermediate Loss: 0.0560\n",
            "\t\t Epoch: 1/20, Intermediate Loss: 0.0591\n",
            "\t\t Epoch: 1/20, Intermediate Loss: 0.0564\n",
            "\t\t Epoch: 1/20, Intermediate Loss: 0.0615\n",
            "Epoch: 1/20, Loss: 0.0597\n",
            "\t\t Epoch: 2/20, Intermediate Loss: 0.0553\n",
            "\t\t Epoch: 2/20, Intermediate Loss: 0.0573\n",
            "\t\t Epoch: 2/20, Intermediate Loss: 0.0558\n",
            "\t\t Epoch: 2/20, Intermediate Loss: 0.0576\n",
            "Epoch: 2/20, Loss: 0.0593\n",
            "\t\t Epoch: 3/20, Intermediate Loss: 0.0582\n",
            "\t\t Epoch: 3/20, Intermediate Loss: 0.0556\n",
            "\t\t Epoch: 3/20, Intermediate Loss: 0.0591\n",
            "\t\t Epoch: 3/20, Intermediate Loss: 0.0589\n",
            "Epoch: 3/20, Loss: 0.0576\n",
            "\t\t Epoch: 4/20, Intermediate Loss: 0.0569\n",
            "\t\t Epoch: 4/20, Intermediate Loss: 0.0531\n",
            "\t\t Epoch: 4/20, Intermediate Loss: 0.0532\n",
            "\t\t Epoch: 4/20, Intermediate Loss: 0.0534\n",
            "Epoch: 4/20, Loss: 0.0553\n",
            "\t\t Epoch: 5/20, Intermediate Loss: 0.0581\n",
            "\t\t Epoch: 5/20, Intermediate Loss: 0.0554\n",
            "\t\t Epoch: 5/20, Intermediate Loss: 0.0579\n",
            "\t\t Epoch: 5/20, Intermediate Loss: 0.0531\n",
            "Epoch: 5/20, Loss: 0.0589\n",
            "\t\t Epoch: 6/20, Intermediate Loss: 0.0585\n",
            "\t\t Epoch: 6/20, Intermediate Loss: 0.0571\n",
            "\t\t Epoch: 6/20, Intermediate Loss: 0.0569\n",
            "\t\t Epoch: 6/20, Intermediate Loss: 0.0593\n",
            "Epoch: 6/20, Loss: 0.0572\n",
            "\t\t Epoch: 7/20, Intermediate Loss: 0.0536\n",
            "\t\t Epoch: 7/20, Intermediate Loss: 0.0563\n",
            "\t\t Epoch: 7/20, Intermediate Loss: 0.0630\n",
            "\t\t Epoch: 7/20, Intermediate Loss: 0.0529\n",
            "Epoch: 7/20, Loss: 0.0539\n",
            "\t\t Epoch: 8/20, Intermediate Loss: 0.0557\n",
            "\t\t Epoch: 8/20, Intermediate Loss: 0.0554\n",
            "\t\t Epoch: 8/20, Intermediate Loss: 0.0529\n",
            "\t\t Epoch: 8/20, Intermediate Loss: 0.0569\n",
            "Epoch: 8/20, Loss: 0.0599\n",
            "\t\t Epoch: 9/20, Intermediate Loss: 0.0553\n",
            "\t\t Epoch: 9/20, Intermediate Loss: 0.0559\n",
            "\t\t Epoch: 9/20, Intermediate Loss: 0.0669\n",
            "\t\t Epoch: 9/20, Intermediate Loss: 0.0630\n",
            "Epoch: 9/20, Loss: 0.0597\n",
            "\t\t Epoch: 10/20, Intermediate Loss: 0.0518\n",
            "\t\t Epoch: 10/20, Intermediate Loss: 0.0615\n",
            "\t\t Epoch: 10/20, Intermediate Loss: 0.0583\n",
            "\t\t Epoch: 10/20, Intermediate Loss: 0.0586\n",
            "Epoch: 10/20, Loss: 0.0551\n",
            "\t\t Epoch: 11/20, Intermediate Loss: 0.0512\n",
            "\t\t Epoch: 11/20, Intermediate Loss: 0.0550\n",
            "\t\t Epoch: 11/20, Intermediate Loss: 0.0580\n",
            "\t\t Epoch: 11/20, Intermediate Loss: 0.0557\n",
            "Epoch: 11/20, Loss: 0.0547\n",
            "\t\t Epoch: 12/20, Intermediate Loss: 0.0602\n",
            "\t\t Epoch: 12/20, Intermediate Loss: 0.0557\n",
            "\t\t Epoch: 12/20, Intermediate Loss: 0.0629\n",
            "\t\t Epoch: 12/20, Intermediate Loss: 0.0556\n",
            "Epoch: 12/20, Loss: 0.0552\n",
            "\t\t Epoch: 13/20, Intermediate Loss: 0.0608\n",
            "\t\t Epoch: 13/20, Intermediate Loss: 0.0577\n",
            "\t\t Epoch: 13/20, Intermediate Loss: 0.0590\n",
            "\t\t Epoch: 13/20, Intermediate Loss: 0.0579\n",
            "Epoch: 13/20, Loss: 0.0619\n",
            "\t\t Epoch: 14/20, Intermediate Loss: 0.0577\n",
            "\t\t Epoch: 14/20, Intermediate Loss: 0.0564\n",
            "\t\t Epoch: 14/20, Intermediate Loss: 0.0658\n",
            "\t\t Epoch: 14/20, Intermediate Loss: 0.0534\n",
            "Epoch: 14/20, Loss: 0.0562\n",
            "\t\t Epoch: 15/20, Intermediate Loss: 0.0535\n",
            "\t\t Epoch: 15/20, Intermediate Loss: 0.0582\n",
            "\t\t Epoch: 15/20, Intermediate Loss: 0.0569\n",
            "\t\t Epoch: 15/20, Intermediate Loss: 0.0557\n",
            "Epoch: 15/20, Loss: 0.0594\n",
            "\t\t Epoch: 16/20, Intermediate Loss: 0.0594\n",
            "\t\t Epoch: 16/20, Intermediate Loss: 0.0551\n",
            "\t\t Epoch: 16/20, Intermediate Loss: 0.0569\n",
            "\t\t Epoch: 16/20, Intermediate Loss: 0.0586\n",
            "Epoch: 16/20, Loss: 0.0584\n",
            "\t\t Epoch: 17/20, Intermediate Loss: 0.0586\n",
            "\t\t Epoch: 17/20, Intermediate Loss: 0.0545\n",
            "\t\t Epoch: 17/20, Intermediate Loss: 0.0612\n",
            "\t\t Epoch: 17/20, Intermediate Loss: 0.0576\n",
            "Epoch: 17/20, Loss: 0.0605\n",
            "\t\t Epoch: 18/20, Intermediate Loss: 0.0551\n",
            "\t\t Epoch: 18/20, Intermediate Loss: 0.0576\n",
            "\t\t Epoch: 18/20, Intermediate Loss: 0.0620\n",
            "\t\t Epoch: 18/20, Intermediate Loss: 0.0573\n",
            "Epoch: 18/20, Loss: 0.0510\n",
            "\t\t Epoch: 19/20, Intermediate Loss: 0.0532\n",
            "\t\t Epoch: 19/20, Intermediate Loss: 0.0577\n",
            "\t\t Epoch: 19/20, Intermediate Loss: 0.0603\n",
            "\t\t Epoch: 19/20, Intermediate Loss: 0.0630\n",
            "Epoch: 19/20, Loss: 0.0586\n"
          ],
          "name": "stdout"
        }
      ]
    },
    {
      "cell_type": "code",
      "metadata": {
        "id": "fWjeV-YwctRB",
        "outputId": "34641bac-6be9-4af7-d930-bfda15fbd1ef",
        "colab": {
          "base_uri": "https://localhost:8080/",
          "height": 265
        }
      },
      "source": [
        "plt.plot(loss_epoch_arr)\n",
        "plt.show()"
      ],
      "execution_count": 9,
      "outputs": [
        {
          "output_type": "display_data",
          "data": {
            "image/png": "[encoded data removed]",
            "text/plain": [
              "<Figure size 432x288 with 1 Axes>"
            ]
          },
          "metadata": {
            "tags": [],
            "needs_background": "light"
          }
        }
      ]
    },
    {
      "cell_type": "code",
      "metadata": {
        "id": "pcWzFXAMxyOs",
        "outputId": "1a6bb847-fa06-460e-9647-9eb603cb5f7f",
        "colab": {
          "base_uri": "https://localhost:8080/",
          "height": 34
        }
      },
      "source": [
        "print(loss.item())\n",
        "torch.save(net.state_dict(), 'run/state_dicts/03_01.pth')"
      ],
      "execution_count": 10,
      "outputs": [
        {
          "output_type": "stream",
          "text": [
            "0.05861428380012512\n"
          ],
          "name": "stdout"
        }
      ]
    }
  ]
}